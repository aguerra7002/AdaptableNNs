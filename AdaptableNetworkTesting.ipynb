{
 "cells": [
  {
   "cell_type": "code",
   "execution_count": 1,
   "metadata": {},
   "outputs": [],
   "source": [
    "import torch\n",
    "import torch.nn as nn\n",
    "import torch.nn.functional as F\n",
    "\n",
    "import numpy as np\n",
    "\n",
    "import os\n",
    "\n",
    "from adaptable import AdaptableNet"
   ]
  },
  {
   "cell_type": "code",
   "execution_count": 2,
   "metadata": {},
   "outputs": [],
   "source": [
    "os.environ[\"CUDA_DEVICE_ORDER\"] = \"PCI_BUS_ID\"\n",
    "os.environ[\"CUDA_VISIBLE_DEVICES\"] = \"0\"\n",
    "torch.cuda.set_device(0)\n",
    "\n",
    "device = torch.device(\"cuda:0\" if torch.cuda.is_available() else \"cpu\")"
   ]
  },
  {
   "cell_type": "code",
   "execution_count": 3,
   "metadata": {},
   "outputs": [
    {
     "name": "stdout",
     "output_type": "stream",
     "text": [
      "Difference After Increase 1: tensor(0., device='cuda:0', grad_fn=<CopyBackwards>)\n",
      "Difference After Decrease 1: tensor(0., device='cuda:0', grad_fn=<CopyBackwards>)\n",
      "Difference After Decrease 2: tensor(0.0399, device='cuda:0', grad_fn=<CopyBackwards>)\n"
     ]
    }
   ],
   "source": [
    "# Set seed properly\n",
    "np.random.seed(1)\n",
    "torch.manual_seed(1)\n",
    "\n",
    "# Create the AdaptableNet\n",
    "test_net = AdaptableNet(device, 12, 5, hidden_size=[7, 10]).to(device)\n",
    "# Create some fake data\n",
    "test_data = torch.Tensor(np.random.random((4, 12))).to(device)\n",
    "# Generate some fake output\n",
    "test_output = test_net(test_data)\n",
    "\n",
    "# Increase the size of the first hidden layer of the net\n",
    "test_net.increase_hidden_size(0)\n",
    "\n",
    "print(\"Difference After Increase 1:\", torch.norm(test_output - test_net(test_data)))\n",
    "\n",
    "# Immediately decrease the size of the first hidden layer of the net \n",
    "# Note: this first decrease will be a trivial operation since we are just undoing the increase from above\n",
    "test_net.decrease_hidden_size(0)\n",
    "\n",
    "print(\"Difference After Decrease 1:\", torch.norm(test_output - test_net(test_data)))\n",
    "\n",
    "# Decrease the size of the first hidden layer of the net AGAIN. \n",
    "# This will be a nontrivial decrease, as it has to get rid of some nonzero weights\n",
    "test_net.decrease_hidden_size(0)\n",
    "\n",
    "print(\"Difference After Decrease 2:\", torch.norm(test_output - test_net(test_data)))"
   ]
  },
  {
   "cell_type": "markdown",
   "metadata": {},
   "source": [
    "Experiment 1: Seeing what method of decreasing the hidden size is in general best. May need to come back to try new methods of doing this since the current methods are very heuristic."
   ]
  },
  {
   "cell_type": "code",
   "execution_count": 6,
   "metadata": {},
   "outputs": [
    {
     "name": "stdout",
     "output_type": "stream",
     "text": [
      "Method 0 avg. loss: 0.3508608553572558\n",
      "Method 1 avg. loss: 0.08565819954313338\n",
      "Method 2 avg. loss: 0.08222294467076427\n",
      "Method 3 avg. loss: 0.35852245862683046\n"
     ]
    }
   ],
   "source": [
    "# Will store our \"losses\" for each mode\n",
    "losses = np.zeros((4, 1000))\n",
    "\n",
    "# For different seeds\n",
    "for i in range(1000):\n",
    "    # For each mode\n",
    "    for mode in range(4):\n",
    "        # Set the seeds\n",
    "        np.random.seed(i)\n",
    "        torch.manual_seed(i)\n",
    "        # Initialize Net\n",
    "        test_net = AdaptableNet(device, 12, 5, hidden_size=[10,])\n",
    "        # Generate data\n",
    "        test_data = torch.Tensor(np.random.random((4, 12))).to(device)\n",
    "        # Generate output\n",
    "        test_output = test_net(test_data)\n",
    "        # Decrease the size\n",
    "        test_net.decrease_hidden_size(0, mode=mode)\n",
    "        # Compute the norm of the difference in the output\n",
    "        losses[mode, i] = torch.norm(test_output - test_net(test_data))\n",
    "        \n",
    "means = np.mean(losses, axis=1)\n",
    "print(\"Method 0 avg. loss:\", means[0])\n",
    "print(\"Method 1 avg. loss:\", means[1])\n",
    "print(\"Method 2 avg. loss:\", means[2])\n",
    "print(\"Method 3 avg. loss:\", means[3])"
   ]
  },
  {
   "cell_type": "markdown",
   "metadata": {},
   "source": [
    "Experiment #2 Training an Adaptable Net with random increasing/decreasing of the network"
   ]
  },
  {
   "cell_type": "code",
   "execution_count": 7,
   "metadata": {},
   "outputs": [
    {
     "name": "stderr",
     "output_type": "stream",
     "text": [
      "In C:\\Users\\alexg\\Anaconda3\\lib\\site-packages\\matplotlib\\mpl-data\\stylelib\\_classic_test.mplstyle: \n",
      "The text.latex.preview rcparam was deprecated in Matplotlib 3.3 and will be removed two minor releases later.\n",
      "In C:\\Users\\alexg\\Anaconda3\\lib\\site-packages\\matplotlib\\mpl-data\\stylelib\\_classic_test.mplstyle: \n",
      "The mathtext.fallback_to_cm rcparam was deprecated in Matplotlib 3.3 and will be removed two minor releases later.\n",
      "In C:\\Users\\alexg\\Anaconda3\\lib\\site-packages\\matplotlib\\mpl-data\\stylelib\\_classic_test.mplstyle: Support for setting the 'mathtext.fallback_to_cm' rcParam is deprecated since 3.3 and will be removed two minor releases later; use 'mathtext.fallback : 'cm' instead.\n",
      "In C:\\Users\\alexg\\Anaconda3\\lib\\site-packages\\matplotlib\\mpl-data\\stylelib\\_classic_test.mplstyle: \n",
      "The validate_bool_maybe_none function was deprecated in Matplotlib 3.3 and will be removed two minor releases later.\n",
      "In C:\\Users\\alexg\\Anaconda3\\lib\\site-packages\\matplotlib\\mpl-data\\stylelib\\_classic_test.mplstyle: \n",
      "The savefig.jpeg_quality rcparam was deprecated in Matplotlib 3.3 and will be removed two minor releases later.\n",
      "In C:\\Users\\alexg\\Anaconda3\\lib\\site-packages\\matplotlib\\mpl-data\\stylelib\\_classic_test.mplstyle: \n",
      "The keymap.all_axes rcparam was deprecated in Matplotlib 3.3 and will be removed two minor releases later.\n",
      "In C:\\Users\\alexg\\Anaconda3\\lib\\site-packages\\matplotlib\\mpl-data\\stylelib\\_classic_test.mplstyle: \n",
      "The animation.avconv_path rcparam was deprecated in Matplotlib 3.3 and will be removed two minor releases later.\n",
      "In C:\\Users\\alexg\\Anaconda3\\lib\\site-packages\\matplotlib\\mpl-data\\stylelib\\_classic_test.mplstyle: \n",
      "The animation.avconv_args rcparam was deprecated in Matplotlib 3.3 and will be removed two minor releases later.\n"
     ]
    }
   ],
   "source": [
    "from torchvision.datasets import MNIST, EMNIST, QMNIST, KMNIST, FashionMNIST\n",
    "from torch.utils.data import DataLoader\n",
    "import torchvision.transforms as transforms\n",
    "import torch.optim as optim\n",
    "from torch.autograd import Variable\n",
    "\n",
    "import matplotlib.pyplot as plt"
   ]
  },
  {
   "cell_type": "code",
   "execution_count": 8,
   "metadata": {},
   "outputs": [],
   "source": [
    "# Tensorize everything\n",
    "tensor_transform = transforms.Compose([\n",
    "    transforms.ToTensor()\n",
    "])\n",
    "# Load QMNIST (digits)\n",
    "train_data = QMNIST('./data/', download=True, train=True, transform=tensor_transform)\n",
    "test_data = QMNIST('./data/', download=True, train=False, transform=tensor_transform)\n",
    "\n",
    "train_loader = DataLoader(train_data, batch_size=256, shuffle=True, num_workers=2)\n",
    "test_loader = DataLoader(test_data, batch_size=256, shuffle=True, num_workers=2)"
   ]
  },
  {
   "cell_type": "code",
   "execution_count": 10,
   "metadata": {},
   "outputs": [
    {
     "name": "stdout",
     "output_type": "stream",
     "text": [
      "Epoch [1/25], Step [50/235], Loss: 0.2152, Accuracy: 81.87%\n",
      "Epoch [1/25], Step [100/235], Loss: 0.2164, Accuracy: 86.95%\n",
      "Epoch [1/25], Step [150/235], Loss: 0.2872, Accuracy: 89.40%\n",
      "[0, 1] [0, 0]\n",
      "Epoch [1/25], Step [200/235], Loss: 0.2067, Accuracy: 90.82%\n",
      "[0, 2] [0, 0]\n",
      "Epoch [2/25], Step [50/235], Loss: 0.1502, Accuracy: 96.61%\n",
      "Epoch [2/25], Step [100/235], Loss: 0.1039, Accuracy: 96.68%\n",
      "[0, 2] [0, -1]\n",
      "Epoch [2/25], Step [150/235], Loss: 0.0577, Accuracy: 96.73%\n",
      "[0, 2] [0, -2]\n",
      "Epoch [2/25], Step [200/235], Loss: 0.0854, Accuracy: 96.78%\n",
      "Epoch [3/25], Step [50/235], Loss: 0.0520, Accuracy: 97.74%\n",
      "[0, 3] [0, -2]\n",
      "Epoch [3/25], Step [100/235], Loss: 0.0553, Accuracy: 97.78%\n",
      "Epoch [3/25], Step [150/235], Loss: 0.0470, Accuracy: 97.75%\n",
      "[0, 3] [-1, -2]\n",
      "Epoch [3/25], Step [200/235], Loss: 0.0749, Accuracy: 97.55%\n",
      "Epoch [4/25], Step [50/235], Loss: 0.0493, Accuracy: 98.09%\n",
      "[0, 3] [-2, -2]\n",
      "Epoch [4/25], Step [100/235], Loss: 0.1134, Accuracy: 98.09%\n",
      "[1, 3] [-2, -2]\n",
      "Epoch [4/25], Step [150/235], Loss: 0.0376, Accuracy: 98.10%\n",
      "Epoch [4/25], Step [200/235], Loss: 0.0362, Accuracy: 98.14%\n",
      "Epoch [5/25], Step [50/235], Loss: 0.0741, Accuracy: 98.17%\n",
      "Epoch [5/25], Step [100/235], Loss: 0.0724, Accuracy: 98.19%\n",
      "Epoch [5/25], Step [150/235], Loss: 0.0868, Accuracy: 98.22%\n",
      "Epoch [5/25], Step [200/235], Loss: 0.0550, Accuracy: 98.27%\n",
      "[1, 4] [-2, -2]\n",
      "Epoch [6/25], Step [50/235], Loss: 0.0749, Accuracy: 98.36%\n",
      "Epoch [6/25], Step [100/235], Loss: 0.0403, Accuracy: 98.16%\n",
      "Epoch [6/25], Step [150/235], Loss: 0.0362, Accuracy: 98.21%\n",
      "Epoch [6/25], Step [200/235], Loss: 0.0550, Accuracy: 98.22%\n",
      "[2, 4] [-2, -2]\n",
      "Epoch [7/25], Step [50/235], Loss: 0.0891, Accuracy: 98.25%\n",
      "[3, 4] [-2, -2]\n",
      "Epoch [7/25], Step [100/235], Loss: 0.0545, Accuracy: 98.20%\n",
      "Epoch [7/25], Step [150/235], Loss: 0.0811, Accuracy: 98.25%\n",
      "Epoch [7/25], Step [200/235], Loss: 0.0425, Accuracy: 98.22%\n",
      "Epoch [8/25], Step [50/235], Loss: 0.0724, Accuracy: 98.17%\n",
      "[3, 4] [-3, -2]\n",
      "Epoch [8/25], Step [100/235], Loss: 0.0581, Accuracy: 98.18%\n",
      "[3, 5] [-3, -2]\n",
      "Epoch [8/25], Step [150/235], Loss: 0.0559, Accuracy: 98.20%\n",
      "Epoch [8/25], Step [200/235], Loss: 0.0461, Accuracy: 98.23%\n",
      "Epoch [9/25], Step [50/235], Loss: 0.1275, Accuracy: 98.17%\n",
      "Epoch [9/25], Step [100/235], Loss: 0.0800, Accuracy: 98.17%\n",
      "Epoch [9/25], Step [150/235], Loss: 0.0661, Accuracy: 98.23%\n",
      "[4, 5] [-3, -2]\n",
      "Epoch [9/25], Step [200/235], Loss: 0.0430, Accuracy: 98.23%\n",
      "Epoch [10/25], Step [50/235], Loss: 0.0234, Accuracy: 98.45%\n",
      "Epoch [10/25], Step [100/235], Loss: 0.0778, Accuracy: 98.23%\n",
      "Epoch [10/25], Step [150/235], Loss: 0.0995, Accuracy: 98.22%\n",
      "Epoch [10/25], Step [200/235], Loss: 0.0587, Accuracy: 98.23%\n",
      "Epoch [11/25], Step [50/235], Loss: 0.0514, Accuracy: 98.11%\n",
      "Epoch [11/25], Step [100/235], Loss: 0.0615, Accuracy: 98.05%\n",
      "[4, 5] [-3, -3]\n",
      "Epoch [11/25], Step [150/235], Loss: 0.0539, Accuracy: 98.15%\n",
      "[4, 5] [-3, -4]\n",
      "Epoch [11/25], Step [200/235], Loss: 0.0505, Accuracy: 98.23%\n",
      "[5, 5] [-3, -4]\n",
      "Epoch [12/25], Step [50/235], Loss: 0.0492, Accuracy: 97.93%\n",
      "Epoch [12/25], Step [100/235], Loss: 0.0284, Accuracy: 98.14%\n",
      "Epoch [12/25], Step [150/235], Loss: 0.0493, Accuracy: 98.17%\n",
      "[6, 5] [-3, -4]\n",
      "Epoch [12/25], Step [200/235], Loss: 0.0434, Accuracy: 98.20%\n",
      "Epoch [13/25], Step [50/235], Loss: 0.0431, Accuracy: 98.19%\n",
      "Epoch [13/25], Step [100/235], Loss: 0.0848, Accuracy: 98.23%\n",
      "[6, 5] [-4, -4]\n",
      "Epoch [13/25], Step [150/235], Loss: 0.0922, Accuracy: 98.21%\n",
      "[6, 5] [-4, -5]\n",
      "Epoch [13/25], Step [200/235], Loss: 0.0662, Accuracy: 98.23%\n",
      "[7, 5] [-4, -5]\n",
      "Epoch [14/25], Step [50/235], Loss: 0.0460, Accuracy: 98.24%\n",
      "[7, 5] [-4, -6]\n",
      "Epoch [14/25], Step [100/235], Loss: 0.1125, Accuracy: 98.23%\n",
      "Epoch [14/25], Step [150/235], Loss: 0.0415, Accuracy: 98.27%\n",
      "[7, 5] [-4, -7]\n",
      "Epoch [14/25], Step [200/235], Loss: 0.0664, Accuracy: 98.24%\n",
      "[8, 5] [-4, -7]\n",
      "Epoch [15/25], Step [50/235], Loss: 0.0472, Accuracy: 98.24%\n",
      "[8, 6] [-4, -7]\n",
      "Epoch [15/25], Step [100/235], Loss: 0.0725, Accuracy: 98.23%\n",
      "Epoch [15/25], Step [150/235], Loss: 0.0481, Accuracy: 98.26%\n",
      "Epoch [15/25], Step [200/235], Loss: 0.0880, Accuracy: 98.22%\n",
      "Epoch [16/25], Step [50/235], Loss: 0.0671, Accuracy: 98.30%\n",
      "[8, 7] [-4, -7]\n",
      "Epoch [16/25], Step [100/235], Loss: 0.0530, Accuracy: 98.33%\n",
      "Epoch [16/25], Step [150/235], Loss: 0.1035, Accuracy: 98.33%\n",
      "[8, 7] [-5, -7]\n",
      "Epoch [16/25], Step [200/235], Loss: 0.0779, Accuracy: 98.26%\n",
      "Epoch [17/25], Step [50/235], Loss: 0.0767, Accuracy: 98.28%\n",
      "Epoch [17/25], Step [100/235], Loss: 0.0819, Accuracy: 98.25%\n",
      "[9, 7] [-5, -7]\n",
      "Epoch [17/25], Step [150/235], Loss: 0.0992, Accuracy: 98.24%\n",
      "Epoch [17/25], Step [200/235], Loss: 0.1007, Accuracy: 98.27%\n",
      "Epoch [18/25], Step [50/235], Loss: 0.0649, Accuracy: 98.13%\n",
      "Epoch [18/25], Step [100/235], Loss: 0.0866, Accuracy: 98.18%\n",
      "Epoch [18/25], Step [150/235], Loss: 0.0891, Accuracy: 98.21%\n",
      "Epoch [18/25], Step [200/235], Loss: 0.0922, Accuracy: 98.25%\n",
      "Epoch [19/25], Step [50/235], Loss: 0.0454, Accuracy: 98.21%\n",
      "[9, 7] [-5, -8]\n",
      "Epoch [19/25], Step [100/235], Loss: 0.0626, Accuracy: 98.27%\n",
      "[9, 7] [-5, -9]\n",
      "Epoch [19/25], Step [150/235], Loss: 0.1357, Accuracy: 98.21%\n",
      "Epoch [19/25], Step [200/235], Loss: 0.0493, Accuracy: 98.23%\n",
      "Epoch [20/25], Step [50/235], Loss: 0.1318, Accuracy: 98.06%\n",
      "[9, 8] [-5, -9]\n",
      "Epoch [20/25], Step [100/235], Loss: 0.0628, Accuracy: 98.15%\n",
      "Epoch [20/25], Step [150/235], Loss: 0.0307, Accuracy: 98.21%\n",
      "[9, 9] [-5, -9]\n",
      "Epoch [20/25], Step [200/235], Loss: 0.0268, Accuracy: 98.22%\n",
      "Epoch [21/25], Step [50/235], Loss: 0.0905, Accuracy: 98.29%\n",
      "[9, 10] [-5, -9]\n",
      "Epoch [21/25], Step [100/235], Loss: 0.1016, Accuracy: 98.23%\n",
      "[9, 11] [-5, -9]\n",
      "Epoch [21/25], Step [150/235], Loss: 0.0479, Accuracy: 98.24%\n",
      "[9, 11] [-6, -9]\n",
      "Epoch [21/25], Step [200/235], Loss: 0.0430, Accuracy: 98.24%\n",
      "[9, 12] [-6, -9]\n",
      "Epoch [22/25], Step [50/235], Loss: 0.0978, Accuracy: 98.23%\n",
      "Epoch [22/25], Step [100/235], Loss: 0.0498, Accuracy: 98.21%\n",
      "[10, 12] [-6, -9]\n",
      "Epoch [22/25], Step [150/235], Loss: 0.0646, Accuracy: 98.21%\n",
      "Epoch [22/25], Step [200/235], Loss: 0.0667, Accuracy: 98.22%\n",
      "Epoch [23/25], Step [50/235], Loss: 0.0441, Accuracy: 98.32%\n",
      "[10, 13] [-6, -9]\n",
      "Epoch [23/25], Step [100/235], Loss: 0.0765, Accuracy: 98.20%\n",
      "[11, 13] [-6, -9]\n",
      "Epoch [23/25], Step [150/235], Loss: 0.0577, Accuracy: 98.22%\n",
      "Epoch [23/25], Step [200/235], Loss: 0.0445, Accuracy: 98.24%\n",
      "Epoch [24/25], Step [50/235], Loss: 0.0623, Accuracy: 98.20%\n",
      "Epoch [24/25], Step [100/235], Loss: 0.0582, Accuracy: 98.21%\n",
      "[12, 13] [-6, -9]\n",
      "Epoch [24/25], Step [150/235], Loss: 0.0738, Accuracy: 98.21%\n",
      "[12, 13] [-6, -10]\n",
      "Epoch [24/25], Step [200/235], Loss: 0.0437, Accuracy: 98.20%\n",
      "Epoch [25/25], Step [50/235], Loss: 0.0948, Accuracy: 98.21%\n",
      "Epoch [25/25], Step [100/235], Loss: 0.0771, Accuracy: 98.13%\n",
      "Epoch [25/25], Step [150/235], Loss: 0.0493, Accuracy: 98.16%\n",
      "Epoch [25/25], Step [200/235], Loss: 0.0671, Accuracy: 98.20%\n",
      "[12, 13] [-7, -10]\n"
     ]
    }
   ],
   "source": [
    "model = AdaptableNet(device, 784, 10, hidden_size=[128, 32]).to(device)\n",
    "\n",
    "# Loss and optimizer\n",
    "criterion = nn.NLLLoss() #You can modify the loss function\n",
    "optimizer = optim.Adam(model.parameters(), lr=0.01) #You can change the optimizer\n",
    "\n",
    "num_epochs = 25\n",
    "teststep =  50\n",
    "\n",
    "\n",
    "# Train the model\n",
    "total_step = len(train_loader)\n",
    "loss_list = []\n",
    "acc_list = []\n",
    "test_acc = []\n",
    "increases = [0, 0]\n",
    "decreases = [0, 0]\n",
    "\n",
    "for epoch in range(num_epochs):\n",
    "    total = 0\n",
    "    correct = 0\n",
    "    for i, (images, labels) in enumerate(train_loader):\n",
    "\n",
    "        images = images.cuda(non_blocking=True) #Transfer images to GPU\n",
    "        labels = labels.cuda(non_blocking=True) #Transfer labels to GPU\n",
    "        images = images.reshape((images.shape[0], images.shape[2] * images.shape[3]))\n",
    "\n",
    "        images = Variable(images)\n",
    "        labels = Variable(labels)\n",
    "        # Run the forward pass\n",
    "        outputs = model(images)\n",
    "        loss = criterion(outputs, labels)\n",
    "        loss_list.append(loss.item())\n",
    "\n",
    "        # Backprop \n",
    "        optimizer.zero_grad()\n",
    "        loss.backward()\n",
    "        optimizer.step()\n",
    "\n",
    "         # Track the accuracy\n",
    "        total += labels.size(0)\n",
    "        _, predicted = torch.max(outputs.data, 1)\n",
    "        correct += (predicted == labels).sum().item()\n",
    "        \n",
    "        if (i + 1) % teststep == 0:\n",
    "            w = torch.nn.utils.parameters_to_vector(model.parameters())\n",
    "            correct_test = 0\n",
    "            total_test = 0\n",
    "            for images_test, labels_test in test_loader:\n",
    "                images_test = images_test.cuda(non_blocking=True)\n",
    "                labels_test = labels_test.cuda(non_blocking=True)\n",
    "                images_test = images_test.reshape((images_test.shape[0], images_test.shape[2] * images_test.shape[3]))\n",
    "                images_test = Variable(images_test)\n",
    "                labels_test = Variable(labels_test)\n",
    "\n",
    "                outputs_test = model(images_test)\n",
    "                _, predicted_test = torch.max(outputs_test.data, 1)\n",
    "                total_test += labels_test.size(0)\n",
    "                correct_test += (predicted_test == labels_test).sum().item()\n",
    "            # Don't print test accuracy, but use the results to plot the data\n",
    "            test_acc.append(correct_test/total_test)\n",
    "            print('Epoch [{}/{}], Step [{}/{}], Loss: {:.4f}, Accuracy: {:.2f}%'\n",
    "                  .format(epoch + 1, num_epochs, i + 1, total_step, loss.item(),\n",
    "                          (correct / total) * 100))\n",
    "            \n",
    "            # Now we change the model\n",
    "            # Start by just doing this randomly\n",
    "            r = np.random.random()\n",
    "            \n",
    "            if r < 0.2:\n",
    "                if np.random.random() < 0.5:\n",
    "                    model.increase_hidden_size(0)\n",
    "                    increases[0] += 1\n",
    "                    print(increases, decreases)\n",
    "                else:\n",
    "                    model.increase_hidden_size(1)\n",
    "                    increases[1] += 1\n",
    "                    print(increases, decreases)\n",
    "            elif r < 0.4:\n",
    "                if np.random.random() < 0.5:\n",
    "                    model.decrease_hidden_size(0)\n",
    "                    decreases[0] += 1\n",
    "                    print(increases, decreases)\n",
    "                else:\n",
    "                    model.decrease_hidden_size(1)\n",
    "                    decreases[1] += 1\n",
    "                    print(increases, decreases)\n",
    "                \n",
    "    acc_list.append(correct / total)\n",
    "    if (total == correct):4\n",
    "        break"
   ]
  },
  {
   "cell_type": "code",
   "execution_count": 11,
   "metadata": {},
   "outputs": [
    {
     "data": {
      "text/plain": [
       "Text(0, 0.5, 'Percentage Accuracy')"
      ]
     },
     "execution_count": 11,
     "metadata": {},
     "output_type": "execute_result"
    },
    {
     "data": {
      "image/png": "[encoded data removed]",
      "text/plain": [
       "<Figure size 432x288 with 1 Axes>"
      ]
     },
     "metadata": {
      "needs_background": "light"
     },
     "output_type": "display_data"
    }
   ],
   "source": [
    "plt.plot(range(len(test_acc)),[x * 100 for x in test_acc],label='Test Accuracy')\n",
    "plt.plot(range(len(acc_list)),[x * 100 for x in acc_list],label='Training Accuracy')\n",
    "plt.legend()\n",
    "plt.title(\"Adaptable Net Learning\")\n",
    "plt.xlabel('Epochs')\n",
    "plt.ylabel('Percentage Accuracy')"
   ]
  },
  {
   "cell_type": "code",
   "execution_count": 30,
   "metadata": {},
   "outputs": [
    {
     "data": {
      "text/plain": [
       "0.5498952283806315"
      ]
     },
     "execution_count": 30,
     "metadata": {},
     "output_type": "execute_result"
    }
   ],
   "source": [
    "np.random.random()"
   ]
  },
  {
   "cell_type": "code",
   "execution_count": null,
   "metadata": {},
   "outputs": [],
   "source": []
  },
  {
   "cell_type": "code",
   "execution_count": null,
   "metadata": {},
   "outputs": [],
   "source": []
  }
 ],
 "metadata": {
  "kernelspec": {
   "display_name": "Python 3",
   "language": "python",
   "name": "python3"
  },
  "language_info": {
   "codemirror_mode": {
    "name": "ipython",
    "version": 3
   },
   "file_extension": ".py",
   "mimetype": "text/x-python",
   "name": "python",
   "nbconvert_exporter": "python",
   "pygments_lexer": "ipython3",
   "version": "3.7.3"
  }
 },
 "nbformat": 4,
 "nbformat_minor": 2
}
